{
  "nbformat": 4,
  "nbformat_minor": 0,
  "metadata": {
    "colab": {
      "provenance": [],
      "toc_visible": true,
      "authorship_tag": "ABX9TyMH3CSLlv1hGwRNf9nLGDL/",
      "include_colab_link": true
    },
    "kernelspec": {
      "name": "python3",
      "display_name": "Python 3"
    },
    "language_info": {
      "name": "python"
    }
  },
  "cells": [
    {
      "cell_type": "markdown",
      "metadata": {
        "id": "view-in-github",
        "colab_type": "text"
      },
      "source": [
        "<a href=\"https://colab.research.google.com/github/ayresjs/che525Instrumentation/blob/main/CHE525_Day9.ipynb\" target=\"_parent\"><img src=\"https://colab.research.google.com/assets/colab-badge.svg\" alt=\"Open In Colab\"/></a>"
      ]
    },
    {
      "cell_type": "code",
      "execution_count": null,
      "metadata": {
        "id": "uorwlta_XwQf"
      },
      "outputs": [],
      "source": []
    },
    {
      "cell_type": "markdown",
      "source": [
        "![RHIT Logo](https://raw.githubusercontent.com/henthornlab/che525Instrumentation/refs/heads/main/rhit-logo-wide.png)\n",
        "# **Process Analytics - Linear Regression with non-polynomial equations** #\n",
        "## Lecture Notes of Jacob Ayres, Rose-Hulman Institute of Technology ##\n",
        "### Let's Look at the Equation: ###\n",
        "$$ y = k_0exp \\left(\\frac{-E_A}{RT}\\right) $$\n",
        "\n",
        "### Can you do ordinary least squares fitting regression on this, assuming we have: ###\n",
        "\n",
        "*   Investigated different values of T?\n",
        "*   Measured k at those temperatures?\n",
        "\n",
        "### Taking the natural log of both sides results in: ###\n",
        "\n",
        "$$ ln(k)  = ln(k_0) + \\left(\\frac{-E_A}{RT}\\right)$$\n",
        "\n",
        "### Which can be fit in a standard linear model form: ###\n",
        "\n",
        "$$y = b +mx$$\n",
        "\n"
      ],
      "metadata": {
        "id": "9OdFeU7YdQIy"
      }
    },
    {
      "cell_type": "markdown",
      "source": [
        "# New Section"
      ],
      "metadata": {
        "id": "juZ0FzXljN4_"
      }
    },
    {
      "cell_type": "code",
      "source": [],
      "metadata": {
        "id": "ioD2BcUvezlO"
      },
      "execution_count": null,
      "outputs": []
    },
    {
      "cell_type": "markdown",
      "source": [
        "\n",
        "![RHIT Logo](https://raw.githubusercontent.com/henthornlab/che525Instrumentation/refs/heads/main/rhit-logo-wide.png)\n",
        "\n",
        "#**CHE525 Equipment Installation Summary**\n",
        "\n",
        "---\n",
        "\n",
        "##### 4/7/2025\n",
        "##### Jacob Ayres\n",
        "\n",
        "##### We connected three pieces of equipment. A coriolis flow meter, a pressure meter, and an RTD. We also created the electrical box used to house the power supply, fuses and cards for each of the instruments:\n",
        "\n",
        "![Equipment](https://raw.githubusercontent.com/henthornlab/ProcessAnalytics/refs/heads/master/2025-install/IMG_8223.jpeg)\n",
        "\n",
        "#### **Electrical Box Backplate**\n",
        "\n",
        "---\n",
        "\n",
        "\n",
        "##### The electrical box attaches to the wall and houses all of the delicate electrical devices and connetions that allows the control system to connect to the instrument. We created and connected the power supply, fuses and attached rails onto the backplate to prepare for the addition of equipment\n",
        "\n",
        "![EBOX](https://raw.githubusercontent.com/henthornlab/ProcessAnalytics/refs/heads/master/2025-install/IMG_8267.jpeg)\n",
        "\n",
        "#### **Coriolis Flow Meter**:\n",
        "\n",
        "---\n",
        "\n",
        "##### The coriolis flow meter measures the torque required to rock the fluid back and forth in a curved tube to determine the mass flowrate of the fluid. Using this mass flowrate and various other process parameters the flow meter can calculate density, vol. flowrate and We wired the Coriolis flow meter to the electrical box and used ethernet to connect it to the process control system\n",
        " ![CORI](https://raw.githubusercontent.com/henthornlab/ProcessAnalytics/refs/heads/master/2025-install/IMG_8273.jpeg)\n",
        "\n",
        "#### **Pressure Sensor**:\n",
        "##### The pressure sensor cna be used to monitor the pressure of the process. We wired the pressure sensor to the box and connected it to the process control system using a HART Analog Signal\n",
        "\n",
        "#### **RTD**:\n",
        "\n",
        "##### AN RTD is a device use to determine the tmeperature of the process. Because a resistance to electrical flow is dependant on temperature the RTD uses a precious metal  with a very well studies temperature, resistnace relationship to calculate th etemperature. We wired the RTD to the box and connected it to the process control system using a HART Analog Signal\n",
        "\n",
        "#### **Equipment Summary Table**:\n",
        "\n",
        "| Equipment | Coriolis Flow Meter | Pressure Sensor | RTD |\n",
        "|---|---|---|---|\n",
        "|Tag | FIT-525A| PIT-525A | TE-525A |\n",
        "| Manufacturer | Endress+Hauser | Endress+Hauser | Endress+Hauser |\n",
        "|Model | Promass 300 | Cerabar | Pt-100 |\n",
        "| Key Process Parameters | Flow | Pressure | Temperature |\n",
        "\n",
        "\n"
      ],
      "metadata": {
        "id": "I3vaHZTSjZlr"
      }
    },
    {
      "cell_type": "code",
      "source": [],
      "metadata": {
        "id": "i7nYQFNBmt_n"
      },
      "execution_count": null,
      "outputs": []
    }
  ]
}