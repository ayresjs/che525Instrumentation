{
  "nbformat": 4,
  "nbformat_minor": 0,
  "metadata": {
    "colab": {
      "provenance": [],
      "authorship_tag": "ABX9TyOHB4AebXrJcVwdm89i6OcY",
      "include_colab_link": true
    },
    "kernelspec": {
      "name": "python3",
      "display_name": "Python 3"
    },
    "language_info": {
      "name": "python"
    }
  },
  "cells": [
    {
      "cell_type": "markdown",
      "metadata": {
        "id": "view-in-github",
        "colab_type": "text"
      },
      "source": [
        "<a href=\"https://colab.research.google.com/github/ayresjs/che525Instrumentation/blob/main/CHE525_Day9.ipynb\" target=\"_parent\"><img src=\"https://colab.research.google.com/assets/colab-badge.svg\" alt=\"Open In Colab\"/></a>"
      ]
    },
    {
      "cell_type": "code",
      "execution_count": null,
      "metadata": {
        "id": "uorwlta_XwQf"
      },
      "outputs": [],
      "source": []
    },
    {
      "cell_type": "markdown",
      "source": [
        "![RHIT Logo](https://raw.githubusercontent.com/henthornlab/che525Instrumentation/refs/heads/main/rhit-logo-wide.png)\n",
        "# **Process Analytics - Linear Regression with non-polynomial equations** #\n",
        "## Lecture Notes of Jacob Ayres, Rose-Hulman Institute of Technology ##\n",
        "### Let's Look at the Equation: ###\n",
        "$$ y = k_0exp \\left(\\frac{-E_A}{RT}\\right) $$\n",
        "\n",
        "### Can you do ordinary least squares fitting regression on this, assuming we have: ###\n",
        "\n",
        "*   Investigated different values of T?\n",
        "*   Measured k at those temperatures?\n",
        "\n",
        "### Taking the natural log of both sides results in: ###\n",
        "\n",
        "$$ ln(k)  = ln(k_0) + \\left(\\frac{-E_A}{RT}\\right)$$\n",
        "\n",
        "### Which can be fit in a standard linear model form: ###\n",
        "\n",
        "$$y = b +mx$$\n",
        "\n"
      ],
      "metadata": {
        "id": "9OdFeU7YdQIy"
      }
    },
    {
      "cell_type": "code",
      "source": [],
      "metadata": {
        "id": "ioD2BcUvezlO"
      },
      "execution_count": null,
      "outputs": []
    }
  ]
}